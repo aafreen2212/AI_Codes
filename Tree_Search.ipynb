{
  "nbformat": 4,
  "nbformat_minor": 0,
  "metadata": {
    "colab": {
      "name": "Tree_Search_HW.ipynb",
      "provenance": [],
      "collapsed_sections": [],
      "authorship_tag": "ABX9TyMqzCF23zLcxmxjGpYUaFUj",
      "include_colab_link": true
    },
    "kernelspec": {
      "name": "python3",
      "display_name": "Python 3"
    }
  },
  "cells": [
    {
      "cell_type": "markdown",
      "metadata": {
        "id": "view-in-github",
        "colab_type": "text"
      },
      "source": [
        "<a href=\"https://colab.research.google.com/github/aafreen2212/AI-Homework/blob/master/Tree_Search_HW.ipynb\" target=\"_parent\"><img src=\"https://colab.research.google.com/assets/colab-badge.svg\" alt=\"Open In Colab\"/></a>"
      ]
    },
    {
      "cell_type": "code",
      "metadata": {
        "id": "G-9V7nR5uwNB",
        "colab_type": "code",
        "colab": {}
      },
      "source": [
        "import pandas as pd\n",
        "import numpy as np"
      ],
      "execution_count": null,
      "outputs": []
    },
    {
      "cell_type": "markdown",
      "metadata": {
        "id": "BWU_euSKFp78",
        "colab_type": "text"
      },
      "source": [
        "![Tree](https://drive.google.com/file/d/1yerZc_DyHSfjYr7IfGTePRomg5oMB0nb/view?usp=sharing)"
      ]
    },
    {
      "cell_type": "code",
      "metadata": {
        "id": "Ra_xRu-s0PEI",
        "colab_type": "code",
        "colab": {}
      },
      "source": [
        "#first implementation\n",
        "graph_1 = [['A' , 'B', 'C'],\n",
        "         ['B' , 'E', 'F'],\n",
        "         ['C' ,'D'],\n",
        "         ['D', 'C'],\n",
        "         ['E', 'B', 'G', 'H'],\n",
        "         ['F',  'B'],\n",
        "         ['G',  'E'],\n",
        "         ['H', 'E', 'I', 'J'],\n",
        "         ['I', 'H'],\n",
        "         ['J', 'H', 'K', 'L'],\n",
        "         ['K','J'],\n",
        "         ['L', 'J', 'M', 'N'],\n",
        "         ['M', 'L'],\n",
        "         ['N', 'L', 'O', 'P'],\n",
        "         ['O', 'N'],\n",
        "         ['P', 'N', 'Q', 'R'],\n",
        "         ['Q', 'P'],\n",
        "         ['R', 'P', 'S', 'T'],\n",
        "         ['S', 'R'],\n",
        "         ['T', 'R', 'U', 'V'],\n",
        "         ['U', 'T'],\n",
        "         ['V', 'T']]"
      ],
      "execution_count": null,
      "outputs": []
    },
    {
      "cell_type": "code",
      "metadata": {
        "id": "b1dTX-K521aG",
        "colab_type": "code",
        "colab": {}
      },
      "source": [
        "#second implementation\n",
        "graph_2 = [['A' , ['B', 'C']],\n",
        "         ['B' , ['E', 'F']],\n",
        "         ['C' ,['D']],\n",
        "         ['D', ['C']],\n",
        "         ['E', ['B', 'G', 'H']],\n",
        "         ['F',  ['B']],\n",
        "         ['G',  ['E']],\n",
        "         ['H', ['E', 'I', 'J']],\n",
        "         ['I', ['H']],\n",
        "         ['J', ['H', 'K', 'L']],\n",
        "         ['K',['J']],\n",
        "         ['L', ['J', 'M', 'N']],\n",
        "         ['M', ['L']],\n",
        "         ['N', ['L', 'O', 'P']],\n",
        "         ['O', ['N']],\n",
        "         ['P', ['N', 'Q', 'R']],\n",
        "         ['Q', ['P']],\n",
        "         ['R', ['P', 'S', 'T']],\n",
        "         ['S', ['R']],\n",
        "         ['T', ['R', 'U', 'V']],\n",
        "         ['U', ['T']],\n",
        "         ['V', ['T']]]"
      ],
      "execution_count": null,
      "outputs": []
    },
    {
      "cell_type": "code",
      "metadata": {
        "id": "XujsYRMn3hm0",
        "colab_type": "code",
        "colab": {}
      },
      "source": [
        "#third implementation\n",
        "graph_3 = [['A', ('B', 'C')],\n",
        "         ['B' , ('E', 'F')],\n",
        "         ['C' ,('D')],\n",
        "         ['D', ('C')],\n",
        "         ['E', ('B', 'G', 'H')],\n",
        "         ['F',  ('B')],\n",
        "         ['G',  ('E')],\n",
        "         ['H', ('E', 'I', 'J')],\n",
        "         ['I', ('H')],\n",
        "         ['J', ('H', 'K', 'L')],\n",
        "         ['K',('J')],\n",
        "         ['L', ('J', 'M', 'N')],\n",
        "         ['M', ('L')],\n",
        "         ['N', ('L', 'O', 'P')],\n",
        "         ['O', ('N')],\n",
        "         ['P', ('N', 'Q', 'R')],\n",
        "         ['Q', ('P')],\n",
        "         ['R', ('P', 'S', 'T')],\n",
        "         ['S', ('R')],\n",
        "         ['T', ('R', 'U', 'V')],\n",
        "         ['U', ('T')],\n",
        "         ['V', ('T')]]"
      ],
      "execution_count": null,
      "outputs": []
    },
    {
      "cell_type": "code",
      "metadata": {
        "id": "ucJb6JW04BvI",
        "colab_type": "code",
        "colab": {}
      },
      "source": [
        "#fourth implementation\n",
        "graph_4 = (['A', ('B', 'C')],\n",
        "         ['B' , ('E', 'F')],\n",
        "         ['C' ,('D')],\n",
        "         ['D', ('C')],\n",
        "         ['E', ('B', 'G', 'H')],\n",
        "         ['F',  ('B')],\n",
        "         ['G',  ('E')],\n",
        "         ['H', ('E', 'I', 'J')],\n",
        "         ['I', ('H')],\n",
        "         ['J', ('H', 'K', 'L')],\n",
        "         ['K',('J')],\n",
        "         ['L', ('J', 'M', 'N')],\n",
        "         ['M', ('L')],\n",
        "         ['N', ('L', 'O', 'P')],\n",
        "         ['O', ('N')],\n",
        "         ['P', ('N', 'Q', 'R')],\n",
        "         ['Q', ('P')],\n",
        "         ['R', ('P', 'S', 'T')],\n",
        "         ['S', ('R')],\n",
        "         ['T', ('R', 'U', 'V')],\n",
        "         ['U', ('T')],\n",
        "         ['V', ('T')])"
      ],
      "execution_count": null,
      "outputs": []
    },
    {
      "cell_type": "code",
      "metadata": {
        "id": "QiAjb6URxvjQ",
        "colab_type": "code",
        "colab": {}
      },
      "source": [
        "#fifth implementation\n",
        "graph_5 = {\n",
        "         'A' : ['B', 'C'],\n",
        "         'B' : ['E', 'F'],\n",
        "         'C' : ['D'],\n",
        "         'D' : [],\n",
        "         'E' : ['G', 'H'],\n",
        "         'F' : [],\n",
        "         'G' : [],\n",
        "         'H' : ['I', 'J'],\n",
        "         'I' : [],\n",
        "         'J' : ['K', 'L'],\n",
        "         'K' : [],\n",
        "         'L' : ['M', 'N'],\n",
        "         'M' : [],\n",
        "         'N' : ['O', 'P'],\n",
        "         'O' : [],\n",
        "         'P' : ['Q', 'R'],\n",
        "         'Q' : [],\n",
        "         'R' : ['S', 'T'],\n",
        "         'S' : [],\n",
        "         'T' : ['U', 'V'],\n",
        "         'U' : [],\n",
        "         'V' : []\n",
        "}"
      ],
      "execution_count": null,
      "outputs": []
    },
    {
      "cell_type": "code",
      "metadata": {
        "id": "bjLoUSt4A5uC",
        "colab_type": "code",
        "colab": {
          "base_uri": "https://localhost:8080/",
          "height": 54
        },
        "outputId": "6878e46c-5397-4390-cf5e-154a8adcd37f"
      },
      "source": [
        "#Links\n",
        "def generate_edges(graph):\n",
        "    edges = []\n",
        "    for node in graph:\n",
        "        for neighbour in graph[node]:\n",
        "            edges.append((node, neighbour))\n",
        "\n",
        "    return edges\n",
        "\n",
        "print(generate_edges(graph_5))"
      ],
      "execution_count": null,
      "outputs": [
        {
          "output_type": "stream",
          "text": [
            "[('A', 'B'), ('A', 'C'), ('B', 'E'), ('B', 'F'), ('C', 'D'), ('E', 'G'), ('E', 'H'), ('H', 'I'), ('H', 'J'), ('J', 'K'), ('J', 'L'), ('L', 'M'), ('L', 'N'), ('N', 'O'), ('N', 'P'), ('P', 'Q'), ('P', 'R'), ('R', 'S'), ('R', 'T'), ('T', 'U'), ('T', 'V')]\n"
          ],
          "name": "stdout"
        }
      ]
    },
    {
      "cell_type": "code",
      "metadata": {
        "id": "l8zJRwjiymQh",
        "colab_type": "code",
        "colab": {}
      },
      "source": [
        "\n",
        "#Depth Search\n",
        "def dfs(visited, graph, node):\n",
        "    if node not in visited:\n",
        "        print (node)\n",
        "        visited.add(node)\n",
        "        for neighbour in graph[node]:\n",
        "            dfs(visited, graph, neighbour)"
      ],
      "execution_count": null,
      "outputs": []
    },
    {
      "cell_type": "code",
      "metadata": {
        "id": "SO2tCVzFztsw",
        "colab_type": "code",
        "colab": {
          "base_uri": "https://localhost:8080/",
          "height": 34
        },
        "outputId": "8eee64e0-ffee-4513-f800-f77f2ce9718c"
      },
      "source": [
        "visited = set(input('Enter a node in string format')) # Set to keep track of visited nodes."
      ],
      "execution_count": null,
      "outputs": [
        {
          "output_type": "stream",
          "text": [
            "Enter a node in string format'D'\n"
          ],
          "name": "stdout"
        }
      ]
    },
    {
      "cell_type": "code",
      "metadata": {
        "id": "Icvo6OyVynXQ",
        "colab_type": "code",
        "colab": {
          "base_uri": "https://localhost:8080/",
          "height": 374
        },
        "outputId": "2e25ec62-38d9-4ef8-ab7d-c5667e574275"
      },
      "source": [
        "dfs(visited, graph_5, 'A')"
      ],
      "execution_count": null,
      "outputs": [
        {
          "output_type": "stream",
          "text": [
            "A\n",
            "B\n",
            "E\n",
            "G\n",
            "H\n",
            "I\n",
            "J\n",
            "K\n",
            "L\n",
            "M\n",
            "N\n",
            "O\n",
            "P\n",
            "Q\n",
            "R\n",
            "S\n",
            "T\n",
            "U\n",
            "V\n",
            "F\n",
            "C\n"
          ],
          "name": "stdout"
        }
      ]
    }
  ]
}
